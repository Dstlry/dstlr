{
 "cells": [
  {
   "cell_type": "markdown",
   "metadata": {},
   "source": [
    "# Download Dependencies"
   ]
  },
  {
   "cell_type": "code",
   "execution_count": 1,
   "metadata": {},
   "outputs": [
    {
     "name": "stdout",
     "output_type": "stream",
     "text": [
      "Marking com.lucidworks.spark:spark-solr:3.6.0 for download\n",
      "-> Failed to resolve org.restlet.jee:org.restlet:2.3.0\n",
      "    -> not found: /tmp/toree-tmp-dir5098819600856165967/toree_add_deps/cache/org.restlet.jee/org.restlet/ivy-2.3.0.xml\n",
      "    -> not found: https://repo1.maven.org/maven2/org/restlet/jee/org.restlet/2.3.0/org.restlet-2.3.0.pom\n",
      "-> Failed to resolve org.restlet.jee:org.restlet.ext.servlet:2.3.0\n",
      "    -> not found: /tmp/toree-tmp-dir5098819600856165967/toree_add_deps/cache/org.restlet.jee/org.restlet.ext.servlet/ivy-2.3.0.xml\n",
      "    -> not found: https://repo1.maven.org/maven2/org/restlet/jee/org.restlet.ext.servlet/2.3.0/org.restlet.ext.servlet-2.3.0.pom\n",
      "Obtained 388 files\n",
      "Marking edu.stanford.nlp:stanford-corenlp:3.9.2 for download\n",
      "Obtained 40 files\n",
      "Marking edu.stanford.nlp:stanford-corenlp:3.9.2 for download\n",
      "Obtained 1 files\n",
      "Marking edu.stanford.nlp:stanford-corenlp:3.9.2 for download\n",
      "Obtained 1 files\n"
     ]
    }
   ],
   "source": [
    "%AddDeps com.lucidworks.spark spark-solr 3.6.0 --transitive\n",
    "%AddDeps edu.stanford.nlp stanford-corenlp 3.9.2 --transitive\n",
    "%AddDeps edu.stanford.nlp stanford-corenlp 3.9.2 --classifier models-english\n",
    "%AddDeps edu.stanford.nlp stanford-corenlp 3.9.2 --classifier models-english-kbp"
   ]
  },
  {
   "cell_type": "markdown",
   "metadata": {},
   "source": [
    "# Fetch Documents from Solr"
   ]
  },
  {
   "cell_type": "code",
   "execution_count": 5,
   "metadata": {},
   "outputs": [
    {
     "data": {
      "text/plain": [
       "SOLR = localhost:9990\n",
       "INDEX = core17\n",
       "FIELD = contents\n",
       "QUERY = Obama\n",
       "rdd = 899\n"
      ]
     },
     "metadata": {},
     "output_type": "display_data"
    },
    {
     "data": {
      "text/plain": [
       "899"
      ]
     },
     "execution_count": 5,
     "metadata": {},
     "output_type": "execute_result"
    }
   ],
   "source": [
    "import com.lucidworks.spark.rdd.SelectSolrRDD\n",
    "\n",
    "val SOLR = \"localhost:9990\"\n",
    "\n",
    "val INDEX = \"core17\"\n",
    "val FIELD = \"contents\"\n",
    "val QUERY = \"Obama\"\n",
    "\n",
    "val rdd = new SelectSolrRDD(SOLR, INDEX, sc)\n",
    "    .rows(1000)\n",
    "    .query(FIELD + \":\" + QUERY)\n",
    "    .count()"
   ]
  },
  {
   "cell_type": "markdown",
   "metadata": {},
   "source": [
    "# CoreNLP Example"
   ]
  },
  {
   "cell_type": "code",
   "execution_count": null,
   "metadata": {
    "scrolled": false
   },
   "outputs": [],
   "source": [
    "import collection.JavaConversions._\n",
    "import edu.stanford.nlp.simple._\n",
    "\n",
    "val doc = new Document(\"Barrack Obama was born in Hawaii. He is our president.\")\n",
    "\n",
    "for (sent <- doc.sentences()) {\n",
    "    for (triple <- sent.openieTriples()) {\n",
    "        println(s\"(${triple.subjectLemmaGloss()}, ${triple.relationLemmaGloss()}, ${triple.objectLemmaGloss()})\")\n",
    "    }\n",
    "}"
   ]
  },
  {
   "cell_type": "code",
   "execution_count": null,
   "metadata": {},
   "outputs": [],
   "source": [
    "%LsMagic"
   ]
  },
  {
   "cell_type": "markdown",
   "metadata": {},
   "source": [
    "# Solr + Spark + CoreNLP"
   ]
  },
  {
   "cell_type": "code",
   "execution_count": null,
   "metadata": {},
   "outputs": [],
   "source": [
    "import collection.mutable.ListBuffer\n",
    "import collection.JavaConversions._\n",
    "\n",
    "import com.lucidworks.spark.rdd.SelectSolrRDD\n",
    "import edu.stanford.nlp.simple.Document\n",
    "\n",
    "val SOLR = \"localhost:9990\"\n",
    "\n",
    "val INDEX = \"core17\"\n",
    "val FIELD = \"contents\"\n",
    "val QUERY = \"Obama\"\n",
    "\n",
    "val rdd = new SelectSolrRDD(SOLR, INDEX, sc)\n",
    "    .rows(1000)\n",
    "    .query(FIELD + \":\" + QUERY)\n",
    "    .map(d => {\n",
    "        \n",
    "        val list = new ListBuffer[Tuple3[String, String, String]]()\n",
    "        val doc = new Document(d.get(\"raw\").asInstanceOf[String])\n",
    "        \n",
    "        for (sent <- doc.sentences()) {\n",
    "            for (triple <- sent.openieTriples()) {\n",
    "                list.append((triple.subjectLemmaGloss(), triple.relationLemmaGloss(), triple.objectLemmaGloss()))\n",
    "            }\n",
    "        }\n",
    "        \n",
    "        (d.get(\"id\"), list.toList)\n",
    "        \n",
    "    })\n",
    "\n",
    "val doc = rdd.take(1)\n",
    "\n",
    "println(doc.head._1)\n",
    "doc.head._2.foreach(println)"
   ]
  }
 ],
 "metadata": {
  "kernelspec": {
   "display_name": "Apache Toree - Scala",
   "language": "scala",
   "name": "apache_toree_scala"
  },
  "language_info": {
   "codemirror_mode": "text/x-scala",
   "file_extension": ".scala",
   "mimetype": "text/x-scala",
   "name": "scala",
   "pygments_lexer": "scala",
   "version": "2.11.12"
  }
 },
 "nbformat": 4,
 "nbformat_minor": 2
}
