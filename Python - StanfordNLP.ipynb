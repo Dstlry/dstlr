{
 "cells": [
  {
   "cell_type": "markdown",
   "metadata": {},
   "source": [
    "# Fetching Documents From Solr\n",
    "First, we need to fetch documents from Solr as a DataFrame."
   ]
  },
  {
   "cell_type": "code",
   "execution_count": null,
   "metadata": {},
   "outputs": [],
   "source": [
    "ZK_HOST = \"localhost:9990\"\n",
    "\n",
    "index = input(\"Index: \") or \"core17\"\n",
    "field = input(\"Field: \") or \"contents\"\n",
    "query = input(\"Query: \") or \"Obama\"\n",
    "\n",
    "df = spark.read.format(\"solr\") \\\n",
    "    .option(\"zkhost\", ZK_HOST) \\\n",
    "    .option(\"collection\", index) \\\n",
    "    .option(\"query\", \"{}:{}\".format(field, query)) \\\n",
    "    .option(\"max_rows\", \"100\") \\\n",
    "    .load()\n",
    "\n",
    "df.printSchema()"
   ]
  },
  {
   "cell_type": "markdown",
   "metadata": {},
   "source": [
    "# CoreNLP Server\n",
    "Next, we show how to get triples from the CoreNLP server."
   ]
  },
  {
   "cell_type": "code",
   "execution_count": null,
   "metadata": {},
   "outputs": [],
   "source": [
    "from stanfordnlp.server import CoreNLPClient\n",
    "\n",
    "def extract(doc):\n",
    "    with CoreNLPClient(annotators=[\"openie\"], memory='16G', threads=44) as client:\n",
    "        triples = []\n",
    "        for sent in client.annotate(doc).sentence:\n",
    "            for triple in sent.openieTriple:\n",
    "                triples.append((triple.subject, triple.relation, triple.object))\n",
    "        return triples\n",
    "    \n",
    "print(extract(\"Barrack Obama was born in Hawaii in 1961.\"))\n",
    "print(extract(\"Apple bought Google for $1 billion.\"))"
   ]
  },
  {
   "cell_type": "code",
   "execution_count": null,
   "metadata": {},
   "outputs": [],
   "source": [
    "import time\n",
    "\n",
    "start = time.time()\n",
    "count = df.rdd.repartition(44).flatMap(lambda doc: extract(doc.raw)).count()\n",
    "end = time.time()\n",
    "\n",
    "print(\"{} triples @ {} per/sec\".format(count, count / (end - start)))"
   ]
  },
  {
   "cell_type": "markdown",
   "metadata": {},
   "source": [
    "# CoreNLP Server (Batching)"
   ]
  },
  {
   "cell_type": "code",
   "execution_count": null,
   "metadata": {},
   "outputs": [],
   "source": [
    "import time\n",
    "\n",
    "from stanfordnlp.server import CoreNLPClient\n",
    "\n",
    "def extractPartition(docs):\n",
    "    batch = \"\\n\\n\".join(doc.raw for doc in docs)\n",
    "    with CoreNLPClient(annotators=[\"openie\"], memory='16G', threads=44, max_char_length=100000000, timeout=3000000) as client:\n",
    "        triples = []\n",
    "        for sent in client.annotate(batch).sentence:\n",
    "            for triple in sent.openieTriple:\n",
    "                triples.append((triple.subject, triple.relation, triple.object))\n",
    "        return triples\n",
    "    \n",
    "start = time.time()\n",
    "count = df.rdd.repartition(44).mapPartitions(lambda doc: extractPartition(doc)).count()\n",
    "end = time.time()\n",
    "\n",
    "print(\"{} triples @ {} per/sec\".format(count, count / (end - start)))"
   ]
  }
 ],
 "metadata": {
  "kernelspec": {
   "display_name": "Python 3",
   "language": "python",
   "name": "python3"
  },
  "language_info": {
   "codemirror_mode": {
    "name": "ipython",
    "version": 3
   },
   "file_extension": ".py",
   "mimetype": "text/x-python",
   "name": "python",
   "nbconvert_exporter": "python",
   "pygments_lexer": "ipython3",
   "version": "3.7.0"
  }
 },
 "nbformat": 4,
 "nbformat_minor": 2
}
