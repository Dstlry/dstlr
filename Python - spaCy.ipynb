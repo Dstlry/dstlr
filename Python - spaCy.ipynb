{
 "cells": [
  {
   "cell_type": "markdown",
   "metadata": {},
   "source": [
    "# Fetching Documents From Solr\n",
    "\n",
    "First, we need to fetch documents from Solr as a DataFrame."
   ]
  },
  {
   "cell_type": "code",
   "execution_count": null,
   "metadata": {},
   "outputs": [],
   "source": [
    "ZK_HOST = \"localhost:9990\"\n",
    "\n",
    "index = input(\"Index: \") or \"core17\"\n",
    "field = input(\"Field: \") or \"contents\"\n",
    "query = input(\"Query: \") or \"Obama\"\n",
    "\n",
    "df = spark.read.format(\"solr\") \\\n",
    "    .option(\"zkhost\", ZK_HOST) \\\n",
    "    .option(\"collection\", index) \\\n",
    "    .option(\"query\", \"{}:{}\".format(field, query)) \\\n",
    "    .option(\"max_rows\", \"1000\") \\\n",
    "    .load()\n",
    "\n",
    "df.printSchema()"
   ]
  },
  {
   "cell_type": "markdown",
   "metadata": {},
   "source": [
    "# Extract Triples From Text\n",
    "Here, we extract triples from text using a (very) basic approach looking at the dependency tree of the entities."
   ]
  },
  {
   "cell_type": "code",
   "execution_count": null,
   "metadata": {},
   "outputs": [],
   "source": [
    "import spacy\n",
    "\n",
    "def extract_relations(doc):\n",
    "\n",
    "    spans = list(doc.ents) + list(doc.noun_chunks)\n",
    "    for span in spans:\n",
    "        span.merge()\n",
    "    \n",
    "    triples = []\n",
    "        \n",
    "    for ent in doc.ents:\n",
    "        preps = [prep for prep in ent.root.head.children if prep.dep_ == \"prep\"]\n",
    "        for prep in preps:\n",
    "            for child in prep.children:\n",
    "                triples.append((ent.text, \"{} {}\".format(ent.root.head, prep), child.text))\n",
    "    \n",
    "    return triples\n",
    "\n",
    "TEXTS = [\n",
    "    'Barrack Obama was born in Hawaii in the year 1961.',\n",
    "    'Apple bought Google for $1 million.'\n",
    "]\n",
    "    \n",
    "nlp = spacy.load(\"en\")\n",
    "\n",
    "for text in TEXTS:\n",
    "    print(\"\\n\" + text)\n",
    "    relations = extract_relations(nlp(text))\n",
    "    for r1, r2, r3 in relations:\n",
    "        print('({}, {}, {})'.format(r1, r2, r3))"
   ]
  },
  {
   "cell_type": "markdown",
   "metadata": {},
   "source": [
    "and we can run it within Spark..."
   ]
  },
  {
   "cell_type": "code",
   "execution_count": null,
   "metadata": {},
   "outputs": [],
   "source": [
    "nlp = spacy.load(\"en\")\n",
    "\n",
    "triples = df.rdd.repartition(44).flatMap(lambda doc: extract_relations(nlp(doc.raw)))\n",
    "triples.count()"
   ]
  }
 ],
 "metadata": {
  "kernelspec": {
   "display_name": "Python 3",
   "language": "python",
   "name": "python3"
  },
  "language_info": {
   "codemirror_mode": {
    "name": "ipython",
    "version": 3
   },
   "file_extension": ".py",
   "mimetype": "text/x-python",
   "name": "python",
   "nbconvert_exporter": "python",
   "pygments_lexer": "ipython3",
   "version": "3.7.0"
  }
 },
 "nbformat": 4,
 "nbformat_minor": 2
}
