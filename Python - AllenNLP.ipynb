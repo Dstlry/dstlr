{
 "cells": [
  {
   "cell_type": "code",
   "execution_count": 1,
   "metadata": {},
   "outputs": [
    {
     "name": "stdout",
     "output_type": "stream",
     "text": [
      "Index: \n",
      "Field: \n",
      "Query: \n",
      "root\n",
      " |-- id: string (nullable = false)\n",
      " |-- raw: string (nullable = true)\n",
      "\n"
     ]
    }
   ],
   "source": [
    "ZK_HOST = \"localhost:9990\"\n",
    "\n",
    "index = input(\"Index: \") or \"core17\"\n",
    "field = input(\"Field: \") or \"contents\"\n",
    "query = input(\"Query: \") or \"Obama\"\n",
    "\n",
    "df = spark.read.format(\"solr\") \\\n",
    "    .option(\"zkhost\", ZK_HOST) \\\n",
    "    .option(\"collection\", index) \\\n",
    "    .option(\"query\", \"{}:{}\".format(field, query)) \\\n",
    "    .option(\"max_rows\", \"1000\") \\\n",
    "    .load()\n",
    "\n",
    "df.printSchema()"
   ]
  },
  {
   "cell_type": "code",
   "execution_count": 2,
   "metadata": {},
   "outputs": [
    {
     "name": "stdout",
     "output_type": "stream",
     "text": [
      "Took 733.0682165622711s @ 145.9373051278814 token/s\n"
     ]
    }
   ],
   "source": [
    "import time\n",
    "\n",
    "from allennlp.predictors.predictor import Predictor\n",
    "from spacy import load\n",
    "\n",
    "acc = sc.accumulator(0)\n",
    "\n",
    "start = time.time()\n",
    "\n",
    "def run(part):\n",
    "    predictor = Predictor.from_path(\"https://s3-us-west-2.amazonaws.com/allennlp/models/openie-model.2018-08-20.tar.gz\")\n",
    "    nlp = load(\"en\", disable=[\"ner\", \"tagger\"])\n",
    "    for d in part:\n",
    "        doc = nlp(d.raw)\n",
    "        words = 0\n",
    "        for sent in doc.sents:\n",
    "            words += len(sent)\n",
    "            print(predictor.predict(sentence=sent.text))\n",
    "        acc.add(words)\n",
    "    \n",
    "df.limit(100).rdd.repartition(1).foreachPartition(run)\n",
    "\n",
    "duration = time.time() - start\n",
    "\n",
    "print(\"Took {}s @ {} token/s\".format(duration, (acc.value / duration)))"
   ]
  }
 ],
 "metadata": {
  "kernelspec": {
   "display_name": "Python 3",
   "language": "python",
   "name": "python3"
  },
  "language_info": {
   "codemirror_mode": {
    "name": "ipython",
    "version": 3
   },
   "file_extension": ".py",
   "mimetype": "text/x-python",
   "name": "python",
   "nbconvert_exporter": "python",
   "pygments_lexer": "ipython3",
   "version": "3.7.2"
  }
 },
 "nbformat": 4,
 "nbformat_minor": 2
}
